{
 "cells": [
  {
   "cell_type": "markdown",
   "metadata": {},
   "source": [
    "# Blockchain for Bitcoin\n",
    "Explore how to use Blockchain to understand Bitcoin transactions\n",
    "\n",
    "**How it works:**\n",
    "* consists of blocks\n",
    "* blocks consist of transactions\n",
    "* blocks are connected through hashing\n",
    "    * each block has a unique digital fingerprint (unique identifyer) and includes a transaciton \"chain\" and the previous block's fingerprint"
   ]
  },
  {
   "cell_type": "code",
   "execution_count": 1,
   "metadata": {},
   "outputs": [],
   "source": [
    "import hashlib\n",
    "\n",
    "class Block:\n",
    "    def __init__(self, previous_hash, transaction):\n",
    "            self.transactions = transaction\n",
    "            self.previous_hash = previous_hash\n",
    "            string_to_hash = \"\".join(transaction) + previous_hash\n",
    "            self.block_hash = hashlib.sha256(string_to_hash.encode()).hexdigest()"
   ]
  },
  {
   "cell_type": "code",
   "execution_count": 2,
   "metadata": {},
   "outputs": [],
   "source": [
    "# Genesis means first block\n",
    "genesis_block = Block(\"Chancellor on the brink...\", [\"Satoshi sent 1 BTC to Ivan\", \n",
    "                                                     \"Maria sent 5 BTC to Jenny\", \n",
    "                                                     \"Satoshi sent 5 BTC to Hal Finney\"])\n",
    "\n",
    "second_block = Block(genesis_block.block_hash, [\"Ivan sent 5 BTC to Liz\"])\n",
    "\n",
    "third_block = Block(second_block.block_hash, [\"A to C 5 BTC\", \n",
    "                                              \"G to D 4 BTC\"])"
   ]
  },
  {
   "cell_type": "markdown",
   "metadata": {},
   "source": [
    "## Each hash has its own uniquely identifying hash fingerprint\n",
    "* If one single bit in the transaction is changed, not only does that block's fingerprint change, but so does every other fingerprint within the chain\n",
    "    * this is how Bitcoin is able to verify that no one has added to or removed an amount from a transaction and is therefore a trusted \"chain of blocks\""
   ]
  },
  {
   "cell_type": "code",
   "execution_count": 3,
   "metadata": {},
   "outputs": [
    {
     "name": "stdout",
     "output_type": "stream",
     "text": [
      "Block hash: Genesis Block\n",
      "d3de87a5740029bf7a5b2a767be499f579391fb498af8aaf42e22f3c009ab422\n",
      "\n",
      "\n",
      "Block hash: Second Block\n",
      "a9473e8845399199637b756767daaa17b1ee5d73750b346ddf87fe02d0d9a3eb\n",
      "\n",
      "\n",
      "Block hash: Third Block\n",
      "57c081111903d1e58c3f3be18c9972a42589847bc79381cacbecc0de4deef8c6\n",
      "\n",
      "\n"
     ]
    }
   ],
   "source": [
    "print(\"Block hash: Genesis Block\")\n",
    "print(genesis_block.block_hash)\n",
    "print(\"\\n\")\n",
    "\n",
    "print(\"Block hash: Second Block\")\n",
    "print(second_block.block_hash)\n",
    "print(\"\\n\")\n",
    "\n",
    "print(\"Block hash: Third Block\")\n",
    "print(third_block.block_hash)\n",
    "print(\"\\n\")"
   ]
  }
 ],
 "metadata": {
  "kernelspec": {
   "display_name": "Python 3",
   "language": "python",
   "name": "python3"
  },
  "language_info": {
   "codemirror_mode": {
    "name": "ipython",
    "version": 3
   },
   "file_extension": ".py",
   "mimetype": "text/x-python",
   "name": "python",
   "nbconvert_exporter": "python",
   "pygments_lexer": "ipython3",
   "version": "3.7.4"
  }
 },
 "nbformat": 4,
 "nbformat_minor": 2
}
